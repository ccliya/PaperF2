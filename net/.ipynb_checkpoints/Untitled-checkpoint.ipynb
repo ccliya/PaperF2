{
 "cells": [
  {
   "cell_type": "code",
   "execution_count": 1,
   "id": "27087954",
   "metadata": {},
   "outputs": [],
   "source": [
    "# -*- coding: utf-8 -*-\n",
    "import math\n",
    "import torch\n",
    "import torch.nn as nn\n",
    "import numpy as np\n",
    "from memnet import *\n",
    "from thop import profile"
   ]
  },
  {
   "cell_type": "code",
   "execution_count": null,
   "id": "82a05a6e-8815-49cd-a235-5730fd332253",
   "metadata": {},
   "outputs": [],
   "source": [
    "dtype = 'float32'\n",
    "os.environ[\"CUDA_VISIBLE_DEVICES\"] = '1'\n",
    "torch.cuda.set_device(1)\n",
    "torch.set_default_tensor_type(torch.FloatTensor)\n"
   ]
  },
  {
   "cell_type": "code",
   "execution_count": null,
   "id": "f64dea48-6bb5-40b5-b618-b0dab805450a",
   "metadata": {},
   "outputs": [],
   "source": []
  },
  {
   "cell_type": "code",
   "execution_count": null,
   "id": "92940414-397d-411f-8789-26b3fd7e68a1",
   "metadata": {},
   "outputs": [],
   "source": []
  },
  {
   "cell_type": "code",
   "execution_count": null,
   "id": "5f89308a-fb08-4f2a-8fc6-22267dfa7555",
   "metadata": {},
   "outputs": [],
   "source": []
  },
  {
   "cell_type": "code",
   "execution_count": 2,
   "id": "8df1d614",
   "metadata": {},
   "outputs": [],
   "source": [
    "net = MemNet(3,12,4,4).cuda()"
   ]
  },
  {
   "cell_type": "code",
   "execution_count": 3,
   "id": "175d0a66",
   "metadata": {},
   "outputs": [],
   "source": [
    "x = torch.randn((1, 3, 256, 256)).cuda()"
   ]
  },
  {
   "cell_type": "code",
   "execution_count": 4,
   "id": "41a15fb3",
   "metadata": {},
   "outputs": [],
   "source": [
    "x = net(x)"
   ]
  },
  {
   "cell_type": "code",
   "execution_count": 5,
   "id": "8b3de91f",
   "metadata": {},
   "outputs": [
    {
     "name": "stdout",
     "output_type": "stream",
     "text": [
      "torch.Size([1, 3, 256, 256])\n"
     ]
    }
   ],
   "source": [
    "print(x.shape)"
   ]
  },
  {
   "cell_type": "code",
   "execution_count": null,
   "id": "f0304f29",
   "metadata": {},
   "outputs": [],
   "source": []
  },
  {
   "cell_type": "code",
   "execution_count": null,
   "id": "5e758242",
   "metadata": {},
   "outputs": [],
   "source": []
  },
  {
   "cell_type": "code",
   "execution_count": null,
   "id": "42e2826b",
   "metadata": {},
   "outputs": [],
   "source": []
  },
  {
   "cell_type": "code",
   "execution_count": null,
   "id": "60fe5513",
   "metadata": {},
   "outputs": [],
   "source": []
  },
  {
   "cell_type": "code",
   "execution_count": null,
   "id": "1d4bb6b2",
   "metadata": {},
   "outputs": [],
   "source": []
  }
 ],
 "metadata": {
  "kernelspec": {
   "display_name": "Python 3 (ipykernel)",
   "language": "python",
   "name": "python3"
  },
  "language_info": {
   "codemirror_mode": {
    "name": "ipython",
    "version": 3
   },
   "file_extension": ".py",
   "mimetype": "text/x-python",
   "name": "python",
   "nbconvert_exporter": "python",
   "pygments_lexer": "ipython3",
   "version": "3.10.14"
  }
 },
 "nbformat": 4,
 "nbformat_minor": 5
}
